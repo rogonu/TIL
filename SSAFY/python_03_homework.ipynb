{
 "cells": [
  {
   "cell_type": "code",
   "execution_count": 3,
   "id": "7cbc4a2d",
   "metadata": {},
   "outputs": [
    {
     "name": "stdout",
     "output_type": "stream",
     "text": [
      "['int()', 'str()', 'float()', 'sum()', 'set()', 'dict()', 'min()', 'max()']\n"
     ]
    }
   ],
   "source": [
    "# homework 1번 문제 built in 함수\n",
    "\n",
    "built_in_function = ['int()', 'str()', 'float()', 'sum()', 'set()', 'dict()', 'min()', 'max()']\n",
    "print(built_in_function)"
   ]
  },
  {
   "cell_type": "code",
   "execution_count": 17,
   "id": "1bb2251f",
   "metadata": {},
   "outputs": [
    {
     "name": "stdout",
     "output_type": "stream",
     "text": [
      "a\n",
      "di\n"
     ]
    }
   ],
   "source": [
    "# homework 2번 문제  정중앙 문자\n",
    "\n",
    "def get_middle_char(x):\n",
    "    mid = len(x) // 2\n",
    "    if len(x) % 2 == 1:\n",
    "        return x[mid]\n",
    "    else:\n",
    "        return x[mid-1:mid+1]\n",
    "\n",
    "print(get_middle_char('ssafy'))\n",
    "print(get_middle_char('coding'))"
   ]
  },
  {
   "cell_type": "code",
   "execution_count": 22,
   "id": "e35083b5",
   "metadata": {},
   "outputs": [
    {
     "ename": "SyntaxError",
     "evalue": "positional argument follows keyword argument (Temp/ipykernel_20572/3609434980.py, line 6)",
     "output_type": "error",
     "traceback": [
      "\u001b[1;36m  File \u001b[1;32m\"C:\\Users\\82104\\AppData\\Local\\Temp/ipykernel_20572/3609434980.py\"\u001b[1;36m, line \u001b[1;32m6\u001b[0m\n\u001b[1;33m    ssafy(name= '영희', '광주')\u001b[0m\n\u001b[1;37m                          ^\u001b[0m\n\u001b[1;31mSyntaxError\u001b[0m\u001b[1;31m:\u001b[0m positional argument follows keyword argument\n"
     ]
    }
   ],
   "source": [
    "# homework 3번 문제  위치 인자와 키워드\n",
    "\n",
    "def ssafy(name, location = '서울'):\n",
    "    print(f'{name}의 지역은 {location}입니다')\n",
    "\n",
    "ssafy(name= '영희', '광주') \n",
    "\n",
    "# 4q번 ssafy(name = '길동', '구미')   위치인지가 키워드인자 뒤에 와서 오류가 나옵니다"
   ]
  },
  {
   "cell_type": "code",
   "execution_count": 24,
   "id": "7105d5d4",
   "metadata": {},
   "outputs": [
    {
     "name": "stdout",
     "output_type": "stream",
     "text": [
      "10\n",
      "None\n"
     ]
    }
   ],
   "source": [
    "# homework 4번 문제  나의 반환값은\n",
    "\n",
    "def my_func(a,b):\n",
    "    c = a + b\n",
    "    print(c)\n",
    "\n",
    "result = my_func(3, 7)\n",
    "print(result)\n",
    "\n",
    "# result의 값은 None 입니다"
   ]
  },
  {
   "cell_type": "code",
   "execution_count": 32,
   "id": "de20741f",
   "metadata": {},
   "outputs": [
    {
     "data": {
      "text/plain": [
       "81.0"
      ]
     },
     "execution_count": 32,
     "metadata": {},
     "output_type": "execute_result"
    }
   ],
   "source": [
    "# homework 5번 문제  가변 인자 리스트\n",
    "\n",
    "def my_avg(*args):\n",
    "    avg = sum(args)/ len(args)\n",
    "    return avg\n",
    "my_avg(77, 83, 95, 80, 70)"
   ]
  }
 ],
 "metadata": {
  "kernelspec": {
   "display_name": "Python 3 (ipykernel)",
   "language": "python",
   "name": "python3"
  },
  "language_info": {
   "codemirror_mode": {
    "name": "ipython",
    "version": 3
   },
   "file_extension": ".py",
   "mimetype": "text/x-python",
   "name": "python",
   "nbconvert_exporter": "python",
   "pygments_lexer": "ipython3",
   "version": "3.9.6"
  }
 },
 "nbformat": 4,
 "nbformat_minor": 5
}
