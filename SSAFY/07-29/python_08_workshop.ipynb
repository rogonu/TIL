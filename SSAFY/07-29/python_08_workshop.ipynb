{
 "cells": [
  {
   "cell_type": "code",
   "execution_count": 10,
   "id": "af9cb56a",
   "metadata": {},
   "outputs": [
    {
     "name": "stdout",
     "output_type": "stream",
     "text": [
      "4\n",
      "8\n",
      "True\n",
      "9\n",
      "12\n",
      "True\n"
     ]
    }
   ],
   "source": [
    "#work shop 첫번재 문제\n",
    "class Point:\n",
    "    \n",
    "    def __init__(self, x, y):\n",
    "        self.x = x\n",
    "        self.y = y\n",
    "p1 = Point(1,3)\n",
    "\n",
    "class Rectangle:\n",
    "    \n",
    "    def __init__(self, p1, p2):\n",
    "        self.p1 = p1\n",
    "        self.p2 = p2\n",
    "        self.width = abs(self.p2.x - self.p1.x)\n",
    "        self.length = abs(self.p2.y - self.p1.y)\n",
    "    def get_area(self):\n",
    "        return self.width * self.length\n",
    "    def get_perimeter(self):\n",
    "        return 2* (self.width + self.length)\n",
    "    def is_square(self):\n",
    "        return self.width == self.length\n",
    "        \n",
    "p1 = Point(1,3)\n",
    "p2 = Point(3,1)\n",
    "r1 =Rectangle(p1, p2)\n",
    "print(r1.get_area())\n",
    "print(r1.get_perimeter())\n",
    "print(r1.is_square())\n",
    "p3 = Point(3,7)\n",
    "p4 = Point(6,4)\n",
    "r2 =Rectangle(p3, p4)\n",
    "print(r2.get_area())\n",
    "print(r2.get_perimeter())\n",
    "print(r2.is_square())\n"
   ]
  },
  {
   "cell_type": "code",
   "execution_count": null,
   "id": "676e2508",
   "metadata": {},
   "outputs": [],
   "source": []
  }
 ],
 "metadata": {
  "kernelspec": {
   "display_name": "Python 3 (ipykernel)",
   "language": "python",
   "name": "python3"
  },
  "language_info": {
   "codemirror_mode": {
    "name": "ipython",
    "version": 3
   },
   "file_extension": ".py",
   "mimetype": "text/x-python",
   "name": "python",
   "nbconvert_exporter": "python",
   "pygments_lexer": "ipython3",
   "version": "3.9.6"
  }
 },
 "nbformat": 4,
 "nbformat_minor": 5
}
