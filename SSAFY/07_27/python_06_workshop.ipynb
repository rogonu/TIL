{
 "cells": [
  {
   "cell_type": "code",
   "execution_count": 4,
   "id": "6c763b34",
   "metadata": {},
   "outputs": [
    {
     "name": "stdout",
     "output_type": "stream",
     "text": [
      "['p']\n",
      "['a', 'n']\n"
     ]
    }
   ],
   "source": [
    "# workshop 첫번재 문제  무엇이 중복일까\n",
    "\n",
    "def duplicated_letters(x):\n",
    "    res = []\n",
    "    for i in x:\n",
    "        for j in range(len(x)):\n",
    "            if x[j] in x[j+1:-1] and x[j] not in res:\n",
    "                res.append(x[j])\n",
    "    return res\n",
    "print(duplicated_letters('apple'))    \n",
    "print(duplicated_letters('banana'))                "
   ]
  },
  {
   "cell_type": "code",
   "execution_count": 10,
   "id": "8a4dc519",
   "metadata": {
    "scrolled": true
   },
   "outputs": [
    {
     "name": "stdout",
     "output_type": "stream",
     "text": [
      "aPpLe\n",
      "bAnAnA\n"
     ]
    }
   ],
   "source": [
    "# workshop 두번재 문제  소대소대\n",
    "\n",
    "def  low_and_up(x):\n",
    "    for i in range(len(x)):\n",
    "        if i % 2 == 0:\n",
    "            print(x[i].lower(), end = '')\n",
    "        else:\n",
    "            print(x[i].upper(), end = '')\n",
    "    print()        \n",
    "low_and_up('apple')\n",
    "low_and_up('banana')"
   ]
  },
  {
   "cell_type": "code",
   "execution_count": 46,
   "id": "0b50cabb",
   "metadata": {},
   "outputs": [
    {
     "name": "stdout",
     "output_type": "stream",
     "text": [
      "[1, 3, 0, 1]\n",
      "[4, 3]\n"
     ]
    }
   ],
   "source": [
    "# workshop 세번재 문제  숫자의 의미\n",
    "\n",
    "# def lonely(x):\n",
    "#     lst =[]\n",
    "#     for i in range(1,len(x)):           리스트를 만들어서 추가하는 방식이 아닌 겹치는 걸 제거하는 식으로도 만들어 봤습니다.\n",
    "#         if x[i] == x[i-1]:\n",
    "#             lst.append(i)\n",
    "#     for j in range(len(lst)):\n",
    "#         del x[lst[j]-j]\n",
    "#     return x\n",
    "def lonely(x):\n",
    "    res = [x[0]]\n",
    "    for i in range(len(x)):\n",
    "        if res[-1] != x[i]:\n",
    "            res.append(x[i])\n",
    "    return res\n",
    "\n",
    "\n",
    "print(lonely([1, 1, 3, 3 ,3, 0, 1, 1]))\n",
    "print(lonely([4, 4, 4, 3, 3]))"
   ]
  }
 ],
 "metadata": {
  "kernelspec": {
   "display_name": "Python 3 (ipykernel)",
   "language": "python",
   "name": "python3"
  },
  "language_info": {
   "codemirror_mode": {
    "name": "ipython",
    "version": 3
   },
   "file_extension": ".py",
   "mimetype": "text/x-python",
   "name": "python",
   "nbconvert_exporter": "python",
   "pygments_lexer": "ipython3",
   "version": "3.9.6"
  }
 },
 "nbformat": 4,
 "nbformat_minor": 5
}
