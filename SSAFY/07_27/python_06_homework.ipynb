{
 "cells": [
  {
   "cell_type": "code",
   "execution_count": 3,
   "id": "fdb9229c",
   "metadata": {},
   "outputs": [
    {
     "name": "stdout",
     "output_type": "stream",
     "text": [
      "[11, 13, 25, 37]\n"
     ]
    }
   ],
   "source": [
    "# homework 첫번재 문제 built in 함수와 메서드\n",
    "\n",
    "a = [13, 25, 11,37]\n",
    "a.sort()\n",
    "print(a)               # sort() 함수를 쓰면 a 자체가 정렬됨"
   ]
  },
  {
   "cell_type": "code",
   "execution_count": 4,
   "id": "cf5f4a50",
   "metadata": {},
   "outputs": [
    {
     "name": "stdout",
     "output_type": "stream",
     "text": [
      "[12, 25, 13, 35] [12, 13, 25, 35]\n"
     ]
    }
   ],
   "source": [
    "b = [12, 25, 13, 35]\n",
    "c = sorted(b)\n",
    "print(b, c)           # sorted() 메서드를 이용하면 b의 값은 변하지 않고 sorted()메서드를 이용한 변수에 저장하면 정렬되어있음 "
   ]
  },
  {
   "cell_type": "code",
   "execution_count": 6,
   "id": "9ec8beac",
   "metadata": {},
   "outputs": [
    {
     "name": "stdout",
     "output_type": "stream",
     "text": [
      "[1, 2, 3, 4, [5, 6, 7]]\n"
     ]
    }
   ],
   "source": [
    "# homework 두번재 문제 .extend() 와 .append()\n",
    "\n",
    "a = [1, 2, 3, 4]\n",
    "a.append([5, 6, 7])\n",
    "print(a)                # append는 하나의 값만 리스트의 맨뒤에 추가"
   ]
  },
  {
   "cell_type": "code",
   "execution_count": 8,
   "id": "ff356de9",
   "metadata": {},
   "outputs": [
    {
     "name": "stdout",
     "output_type": "stream",
     "text": [
      "[1, 2, 3, 4, 5, 6, 7]\n"
     ]
    }
   ],
   "source": [
    "b = [1, 2, 3, 4]\n",
    "b.extend([5, 6, 7])\n",
    "print(b)               # extend는 iterable 한 값이 오며  값의 모든 요소를 리스트에 추가 for 문을 이용한것과 비슷"
   ]
  },
  {
   "cell_type": "code",
   "execution_count": 9,
   "id": "b49d2d91",
   "metadata": {},
   "outputs": [
    {
     "name": "stdout",
     "output_type": "stream",
     "text": [
      "[1, 2, 5, 4, 5]\n",
      "[1, 2, 5, 4, 5]\n"
     ]
    }
   ],
   "source": [
    "# homework 세번재 문제  복사가 잘 된건가?\n",
    "a = [1, 2, 3, 4, 5]\n",
    "b = a\n",
    "a[2] = 5\n",
    "print(a)                         # a 와 b의 값은 같다 b = a 라고 하면 a 와 b 가 같은 메모리의 저장소를 같기 때문에 a 나 b를 수정하면 \n",
    "print(b)                         # a 와 b 의 값은 같다"
   ]
  }
 ],
 "metadata": {
  "kernelspec": {
   "display_name": "Python 3 (ipykernel)",
   "language": "python",
   "name": "python3"
  },
  "language_info": {
   "codemirror_mode": {
    "name": "ipython",
    "version": 3
   },
   "file_extension": ".py",
   "mimetype": "text/x-python",
   "name": "python",
   "nbconvert_exporter": "python",
   "pygments_lexer": "ipython3",
   "version": "3.9.6"
  }
 },
 "nbformat": 4,
 "nbformat_minor": 5
}
