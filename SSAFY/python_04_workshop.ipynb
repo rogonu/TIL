{
 "cells": [
  {
   "cell_type": "code",
   "execution_count": 4,
   "id": "7be92e7d",
   "metadata": {},
   "outputs": [
    {
     "data": {
      "text/plain": [
       "'SsAfY'"
      ]
     },
     "execution_count": 4,
     "metadata": {},
     "output_type": "execute_result"
    }
   ],
   "source": [
    "# work shop  1번 문제  숫자의 의미\n",
    "# chr(int)   ord('str')\n",
    "def get_secret_world(lst):\n",
    "    res = ''\n",
    "    for i in lst:\n",
    "        res += chr(i)\n",
    "    return res    \n",
    "get_secret_world([83, 115, 65, 102, 89])"
   ]
  },
  {
   "cell_type": "code",
   "execution_count": 8,
   "id": "1d93400c",
   "metadata": {},
   "outputs": [
    {
     "data": {
      "text/plain": [
       "336"
      ]
     },
     "execution_count": 8,
     "metadata": {},
     "output_type": "execute_result"
    }
   ],
   "source": [
    "# work shop  2번 문제  내 이름은 몇일까?\n",
    "def get_secret_number(name):\n",
    "    total = 0\n",
    "    for i in name:\n",
    "        total += ord(i)\n",
    "    return total\n",
    "get_secret_number('tom')"
   ]
  },
  {
   "cell_type": "code",
   "execution_count": 13,
   "id": "1b28a620",
   "metadata": {},
   "outputs": [
    {
     "name": "stdout",
     "output_type": "stream",
     "text": [
      "z\n",
      "john\n"
     ]
    }
   ],
   "source": [
    "# work shop  3번 문제  강한이름\n",
    "def get_strong_word(x, y):\n",
    "    total_x = get_secret_number(x)\n",
    "    total_y = get_secret_number(y)\n",
    "    if total_x > total_y:\n",
    "        return x\n",
    "    return y\n",
    "\n",
    "print(get_strong_word('z', 'a'))\n",
    "print(get_strong_word('tom', 'john'))"
   ]
  }
 ],
 "metadata": {
  "kernelspec": {
   "display_name": "Python 3 (ipykernel)",
   "language": "python",
   "name": "python3"
  },
  "language_info": {
   "codemirror_mode": {
    "name": "ipython",
    "version": 3
   },
   "file_extension": ".py",
   "mimetype": "text/x-python",
   "name": "python",
   "nbconvert_exporter": "python",
   "pygments_lexer": "ipython3",
   "version": "3.9.6"
  }
 },
 "nbformat": 4,
 "nbformat_minor": 5
}
