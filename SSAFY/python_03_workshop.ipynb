{
 "cells": [
  {
   "cell_type": "code",
   "execution_count": 6,
   "id": "796202c3",
   "metadata": {},
   "outputs": [
    {
     "data": {
      "text/plain": [
       "15"
      ]
     },
     "execution_count": 6,
     "metadata": {},
     "output_type": "execute_result"
    }
   ],
   "source": [
    "#   homework 1번 list의 합 구하기\n",
    "def list_sum(lst):\n",
    "    total = 0\n",
    "    for i in lst:\n",
    "        total  += i\n",
    "    return total    \n",
    "list_sum([1, 2, 3, 4, 5])"
   ]
  },
  {
   "cell_type": "code",
   "execution_count": 8,
   "id": "5e947929",
   "metadata": {},
   "outputs": [
    {
     "data": {
      "text/plain": [
       "16"
      ]
     },
     "execution_count": 8,
     "metadata": {},
     "output_type": "execute_result"
    }
   ],
   "source": [
    "#   homework 2번 Dictionary로 이루어진 list의 합 구하기\n",
    "\n",
    "def dict_list_sum(dict_list) :\n",
    "    total = 0\n",
    "    for dic in dict_list:\n",
    "        total += dic['age'] \n",
    "    return total\n",
    "dict_list_sum([{'name' : 'kim','age' : 12}, {'name' : 'Lee', 'age' : 4}])"
   ]
  },
  {
   "cell_type": "code",
   "execution_count": 18,
   "id": "002e4db4",
   "metadata": {},
   "outputs": [
    {
     "data": {
      "text/plain": [
       "55"
      ]
     },
     "execution_count": 18,
     "metadata": {},
     "output_type": "execute_result"
    }
   ],
   "source": [
    "#   homework 3번 2차원 list의 전체 합 구하기\n",
    "\n",
    "def all_list_sum(lst):\n",
    "    total_2 = 0\n",
    "    for i in lst:\n",
    "        global total_1\n",
    "        total_2 += total_1\n",
    "        total_1 = 0\n",
    "        for j in i:\n",
    "            total_1 += j\n",
    "            \n",
    "    return total_2\n",
    "all_list_sum([[1], [2, 3], [4, 5, 6], [7, 8, 9, 10]])"
   ]
  }
 ],
 "metadata": {
  "kernelspec": {
   "display_name": "Python 3 (ipykernel)",
   "language": "python",
   "name": "python3"
  },
  "language_info": {
   "codemirror_mode": {
    "name": "ipython",
    "version": 3
   },
   "file_extension": ".py",
   "mimetype": "text/x-python",
   "name": "python",
   "nbconvert_exporter": "python",
   "pygments_lexer": "ipython3",
   "version": "3.9.6"
  }
 },
 "nbformat": 4,
 "nbformat_minor": 5
}
