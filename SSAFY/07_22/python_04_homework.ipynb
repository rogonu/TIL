{
 "cells": [
  {
   "cell_type": "code",
   "execution_count": null,
   "id": "ba87029a",
   "metadata": {},
   "outputs": [],
   "source": [
    "# homework 1번째 문제 이름공간\n",
    "'''\n",
    "변수를 찾을때 접근 하는 순서\n",
    "\n",
    "local scope\n",
    "enclosed scope\n",
    "global scope\n",
    "built in scope\n",
    "'''\n"
   ]
  },
  {
   "cell_type": "code",
   "execution_count": null,
   "id": "106befcb",
   "metadata": {},
   "outputs": [],
   "source": [
    "# homework 2번째 문제 매개변수와 인자, 그리고 반환\n",
    "\n",
    "'''\n",
    "(1) 함수는 오직 하나의 객체만 반환할 수 있으므로 'return a, b' 와 같이 쓸 수 없다.  -->  X\n",
    "\n",
    "함수는 오직 하나의 객체만 반환하지만 'return a, b' 와 같이 쓰면 (a, b) 라는 하나의 튜플로 반환되므로 \n",
    "'return a, b'는 가능하다.\n",
    "'''"
   ]
  },
  {
   "cell_type": "code",
   "execution_count": null,
   "id": "e901d2ae",
   "metadata": {},
   "outputs": [],
   "source": [
    "# homework 3번째 문제 재귀함수\n",
    "'''\n",
    "*재귀함수의 장점 \n",
    "    -반복문과 비교하여 코드가 직관적이고 이해하기 쉽다\n",
    "    \n",
    "    -재귀함수를 이용하면 변수사용을 줄일수 있다.\n",
    "\n",
    "*재귀함수의 단점\n",
    "    -재귀함수는 함수안에 함수를 불러와서 입력 값이 커질수록 걸리는 시간이 지수승으로 높아진다.\n",
    "    \n",
    "    -파이썬에서는 최대 재귀 높이가 1000으로 정해져 있어서 그 이상의 계산은 안된다.\n",
    "    반면 반복문은 높이가 정해져있지않아 더 많은 값을 계산할수 있다.\n",
    "'''\n"
   ]
  }
 ],
 "metadata": {
  "kernelspec": {
   "display_name": "Python 3 (ipykernel)",
   "language": "python",
   "name": "python3"
  },
  "language_info": {
   "codemirror_mode": {
    "name": "ipython",
    "version": 3
   },
   "file_extension": ".py",
   "mimetype": "text/x-python",
   "name": "python",
   "nbconvert_exporter": "python",
   "pygments_lexer": "ipython3",
   "version": "3.9.6"
  }
 },
 "nbformat": 4,
 "nbformat_minor": 5
}
