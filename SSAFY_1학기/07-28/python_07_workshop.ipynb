{
 "cells": [
  {
   "cell_type": "code",
   "execution_count": null,
   "id": "b7ca6e39",
   "metadata": {},
   "outputs": [],
   "source": [
    "#workshop 첫번째 문제 pip\n",
    "\n",
    "'''\n",
    "pip install faker 는 faker 라는 패키지를 python 에 설치하는 명령어 입니다\n",
    "python의 터미널에서 실행하면 됩니다. ex) git bash , 명령프롬포트\n",
    "'''"
   ]
  },
  {
   "cell_type": "code",
   "execution_count": 2,
   "id": "d6f3d29c",
   "metadata": {},
   "outputs": [
    {
     "data": {
      "text/plain": [
       "'Misty Bartlett'"
      ]
     },
     "execution_count": 2,
     "metadata": {},
     "output_type": "execute_result"
    }
   ],
   "source": [
    "#workshop 두번째 문제 basic usages\n",
    "\n",
    "from faker import Faker    # 1 faker 모듈의 Faker 클래스를 불러오기 위한 코드이다.\n",
    "fake = Faker()              # 2 Fakersms 함수, fake는 변수이다.\n",
    "fake.name()                 # name()은 fake 메소드이다."
   ]
  },
  {
   "cell_type": "code",
   "execution_count": null,
   "id": "3220144f",
   "metadata": {},
   "outputs": [],
   "source": [
    "#workshop 세번째 문제 localization\n",
    "'''\n",
    "a = init\n",
    "b = self\n",
    "c = name\n",
    "'''"
   ]
  },
  {
   "cell_type": "code",
   "execution_count": 34,
   "id": "4f1e60e2",
   "metadata": {},
   "outputs": [
    {
     "name": "stdout",
     "output_type": "stream",
     "text": [
      "이도윤\n",
      "이지후\n"
     ]
    }
   ],
   "source": [
    "#workshop 네번째 문제 localization\n",
    "# import random\n",
    "\n",
    "# random.random()\n",
    "# random.random()\n",
    "\n",
    "# random.seed(7777)\n",
    "# random.random()\n",
    "\n",
    "# random.seed(7777)\n",
    "# random.random()\n",
    "fake = Faker('ko_KR')\n",
    "Faker.seed(4321)\n",
    "\n",
    "print(fake.name())\n",
    "\n",
    "fake2 = Faker('ko_KR')\n",
    "print(fake2.name())   \n",
    "\n",
    " # 임의의 값을 반환하는데 seed 값을 주면 seed 값에 정해진 값이 반환된다 교수님 fake 랑 fake2랑 값이 왜 다른지 모르겠습니다."
   ]
  },
  {
   "cell_type": "code",
   "execution_count": 77,
   "id": "40d1842d",
   "metadata": {},
   "outputs": [
    {
     "name": "stdout",
     "output_type": "stream",
     "text": [
      "이도윤\n",
      "송명자\n"
     ]
    }
   ],
   "source": [
    "#workshop 네번째 문제 Seeding the Generator\n",
    "\n",
    "fake = Faker('ko_KR')\n",
    "fake.seed_instance(4321)\n",
    "\n",
    "print(fake.name())\n",
    "\n",
    "fake2 = Faker('ko_KR')\n",
    "\n",
    "print(fake2.name())          # seed_instance() 는 각각의  instance 에 값을 정해주는거 같고  .....\n",
    "                            # 사실 이해가 잘 가지 않습니다... "
   ]
  }
 ],
 "metadata": {
  "kernelspec": {
   "display_name": "Python 3 (ipykernel)",
   "language": "python",
   "name": "python3"
  },
  "language_info": {
   "codemirror_mode": {
    "name": "ipython",
    "version": 3
   },
   "file_extension": ".py",
   "mimetype": "text/x-python",
   "name": "python",
   "nbconvert_exporter": "python",
   "pygments_lexer": "ipython3",
   "version": "3.9.6"
  }
 },
 "nbformat": 4,
 "nbformat_minor": 5
}
