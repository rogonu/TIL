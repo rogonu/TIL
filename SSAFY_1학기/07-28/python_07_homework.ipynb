{
 "cells": [
  {
   "cell_type": "code",
   "execution_count": null,
   "id": "2eff16e0",
   "metadata": {},
   "outputs": [],
   "source": [
    "#homework 첫번째 문제 type class\n",
    "\n",
    "# int , float, dict, complex, bytes, bool, frozenset, range, set,slice, str, type 등등"
   ]
  },
  {
   "cell_type": "code",
   "execution_count": null,
   "id": "e7784ec4",
   "metadata": {},
   "outputs": [],
   "source": [
    "#homework 두번째 문제 magic class\n",
    "'''\n",
    "__init__ : 인스턴스 객체가 생서될때 호출되는 함수. 인자들은 생성자 표현으로 전달된 것들이다.\n",
    "__del__ : 인스턴스 객체가 소멸되기 직전에 호출되는 함수.\n",
    "--str-- : 객체의 비형식적인 문자열표현을 계산. 반환 값이 문자열 객체여야한다.\n",
    "__repr__ : 객체의 형식적인 문자열 표현을 계산. 반환 값이 문자열 객체여야한다.\n",
    "\n",
    "교수님 __str__ 과 __repr__ 차이 중에 비형식적인 것과 형식적인 것의 차이가 뭔지 궁금합니다.\n",
    "'''"
   ]
  },
  {
   "cell_type": "code",
   "execution_count": null,
   "id": "47c3c7f1",
   "metadata": {},
   "outputs": [],
   "source": [
    "#homework 세번째 문제 instance method\n",
    "'''\n",
    ".append(a) : 리스트에 a값을 리스트의 맨뒤에 추가한다.\n",
    ".extend(a) : iterable한 값의 요소를 하나씩 리스트의 맨뒤에 추가한다.\n",
    ".count(a) : 리스트에 a 값이 몇개 있는지 반환한다.\n",
    "\n",
    "'''"
   ]
  },
  {
   "cell_type": "code",
   "execution_count": null,
   "id": "a0f7cad4",
   "metadata": {},
   "outputs": [],
   "source": [
    "#homework 네번째 문제 module import\n",
    "'''\n",
    "a = fibo\n",
    "b = fibo_recursion(n)\n",
    "c = recursion(n)\n",
    "'''"
   ]
  }
 ],
 "metadata": {
  "kernelspec": {
   "display_name": "Python 3 (ipykernel)",
   "language": "python",
   "name": "python3"
  },
  "language_info": {
   "codemirror_mode": {
    "name": "ipython",
    "version": 3
   },
   "file_extension": ".py",
   "mimetype": "text/x-python",
   "name": "python",
   "nbconvert_exporter": "python",
   "pygments_lexer": "ipython3",
   "version": "3.9.6"
  }
 },
 "nbformat": 4,
 "nbformat_minor": 5
}
