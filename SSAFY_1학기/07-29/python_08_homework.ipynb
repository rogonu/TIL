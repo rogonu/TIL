{
 "cells": [
  {
   "cell_type": "code",
   "execution_count": 2,
   "id": "26865a83",
   "metadata": {},
   "outputs": [
    {
     "name": "stdout",
     "output_type": "stream",
     "text": [
      "28.259999999999998\n",
      "18.84\n"
     ]
    }
   ],
   "source": [
    "#homework 첫번재 문제  Circle 인스턴스 만들기\n",
    "\n",
    "class Circle:\n",
    "    pi = 3.14\n",
    "    x = 0\n",
    "    y = 0\n",
    "    r = 0\n",
    "    \n",
    "    def __init__(self, r, x, y):\n",
    "        self.r = r\n",
    "        self.x = x\n",
    "        self.y = y\n",
    "        \n",
    "    def area(self):\n",
    "        return self.pi * self.r * self.r\n",
    "    \n",
    "    def circumference(self):\n",
    "        return 2 * self.pi * self.r\n",
    "    \n",
    "    def center(self):\n",
    "        return (self.x, self.y)\n",
    "    \n",
    "cir = Circle(3, 2, 4)\n",
    "print(cir.area())\n",
    "print(cir.circumference())"
   ]
  },
  {
   "cell_type": "code",
   "execution_count": 8,
   "id": "7776f444",
   "metadata": {},
   "outputs": [
    {
     "name": "stdout",
     "output_type": "stream",
     "text": [
      "멍멍이! 달린다!\n",
      "멍멍이! 짖는다!\n",
      "구구! 걷는다!\n",
      "구구! 먹는다!\n",
      "구구! 푸드덕!\n"
     ]
    }
   ],
   "source": [
    "#homework 두번재 문제  Dog과 Bird는 Animal 이다\n",
    "class Animal:\n",
    "    def __init__(self, name):\n",
    "        self.name = name\n",
    "        \n",
    "    def walk(self):\n",
    "        print(f'{self.name}! 걷는다!')\n",
    "        \n",
    "    def eat(self):\n",
    "        print(f'{self.name}! 먹는다!')\n",
    "    \n",
    "class Dog(Animal):\n",
    "    def __init__(self, name):\n",
    "        super().__init__(name)\n",
    "        \n",
    "    def walk(self):\n",
    "        print(f'{self.name}! 달린다!')\n",
    "        \n",
    "    def bark(self):\n",
    "        print(f'{self.name}! 짖는다!')\n",
    "        \n",
    "class Bird(Animal):\n",
    "    def __init__(self, name):\n",
    "        super().__init__(name)\n",
    "              \n",
    "    def fly(self):\n",
    "        print(f'{self.name}! 푸드덕!')\n",
    "dog = Dog('멍멍이')\n",
    "dog.walk()\n",
    "dog.bark()\n",
    "\n",
    "bird = Bird('구구')\n",
    "bird.walk()\n",
    "bird.eat()\n",
    "bird.fly()"
   ]
  },
  {
   "cell_type": "code",
   "execution_count": null,
   "id": "a04f880b",
   "metadata": {},
   "outputs": [],
   "source": [
    "#homework 재 문제  오류의종류\n",
    "'''\n",
    "ZeroDivisionError - 나누기또는 모듈로 연산의 두번째 인자가 0일때 발생\n",
    "NameError - 지역또는 전역 이름을 찾을수 없을때 발생.\n",
    "TypeError - 연산이나 함수가 부적절한 형의 객체에 적용될때 발생. 연관된 값은 형 불일치에 대한 세부정보를 제공하는 문자열.\n",
    "IndexError - 시퀀스 인덱스가 범위를 벗어날 때 발생. 슬라이스 인덱스는 허용된 범위내에 들어오도록 자동으로 잘림\n",
    "KeyError - 딕셔너리 키가 기존 키 집합에서 발견되지 않을때 발생.\n",
    "ModuleNotFoundError - importError 의 서브 클래스로 모듈을 찾을 수 없을 때 발생. \n",
    "ImportError - import 문이 모듈을 로드하는데 문제가 있을 때 발생. from ...import 에서 import 하려는 이름을 찾을수 없을때도 발생\n",
    "\n",
    "'''"
   ]
  }
 ],
 "metadata": {
  "kernelspec": {
   "display_name": "Python 3 (ipykernel)",
   "language": "python",
   "name": "python3"
  },
  "language_info": {
   "codemirror_mode": {
    "name": "ipython",
    "version": 3
   },
   "file_extension": ".py",
   "mimetype": "text/x-python",
   "name": "python",
   "nbconvert_exporter": "python",
   "pygments_lexer": "ipython3",
   "version": "3.9.6"
  }
 },
 "nbformat": 4,
 "nbformat_minor": 5
}
